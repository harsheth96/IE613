{
 "cells": [
  {
   "cell_type": "code",
   "execution_count": 17,
   "metadata": {
    "ExecuteTime": {
     "end_time": "2018-03-31T10:28:44.992908Z",
     "start_time": "2018-03-31T10:28:44.984270Z"
    }
   },
   "outputs": [],
   "source": [
    "import pandas as pd\n",
    "import numpy as np\n",
    "import matplotlib.pyplot as plt\n",
    "from numpy.linalg import norm as norm"
   ]
  },
  {
   "cell_type": "code",
   "execution_count": 18,
   "metadata": {
    "ExecuteTime": {
     "end_time": "2018-03-31T10:28:45.297844Z",
     "start_time": "2018-03-31T10:28:45.190265Z"
    }
   },
   "outputs": [],
   "source": [
    "d1 = pd.read_csv(\"./data/Skin_NonSkin.txt\", sep=\"\\t\", header=None)\n",
    "X = d1.values[:,:-1]\n",
    "Y = d1.values[:,-1]"
   ]
  },
  {
   "cell_type": "code",
   "execution_count": 19,
   "metadata": {
    "ExecuteTime": {
     "end_time": "2018-03-31T10:28:45.456732Z",
     "start_time": "2018-03-31T10:28:45.441434Z"
    }
   },
   "outputs": [],
   "source": [
    "Xs = np.sum(X,1)\n",
    "Xs = np.maximum(Xs,np.ones_like(Xs))\n",
    "np.min(Xs)\n",
    "X_reg = (X.T/Xs).T\n",
    "\n",
    "Y_reg = 2*Y - 3"
   ]
  },
  {
   "cell_type": "code",
   "execution_count": 11,
   "metadata": {
    "ExecuteTime": {
     "end_time": "2018-03-31T10:28:25.469545Z",
     "start_time": "2018-03-31T10:28:18.381661Z"
    }
   },
   "outputs": [],
   "source": [
    "#Perceptron\n",
    "#def perceptron(X_reg, Y_reg):\n",
    "i = 0\n",
    "w = np.zeros_like(X[0,:])\n",
    "metric = []\n",
    "I = []\n",
    "for x,y in zip(X_reg,Y_reg):\n",
    "    #import pdb; pdb.set_trace()\n",
    "    l = y - np.sign(np.sum(w*x))\n",
    "    w_new = w + l*x\n",
    "    if np.linalg.norm(w) != 0:\n",
    "        metric.append(norm(w_new/norm(w_new) - w/(norm(w))))\n",
    "        I.append(i)\n",
    "    w = w_new\n",
    "    i+=1"
   ]
  },
  {
   "cell_type": "code",
   "execution_count": 12,
   "metadata": {
    "ExecuteTime": {
     "end_time": "2018-03-31T10:28:25.481374Z",
     "start_time": "2018-03-31T10:28:25.471354Z"
    }
   },
   "outputs": [
    {
     "data": {
      "text/plain": [
       "array([0.4523901, 0.413383 , 0.1342269])"
      ]
     },
     "execution_count": 12,
     "metadata": {},
     "output_type": "execute_result"
    }
   ],
   "source": [
    "w"
   ]
  },
  {
   "cell_type": "code",
   "execution_count": 13,
   "metadata": {
    "ExecuteTime": {
     "end_time": "2018-03-31T10:28:28.876684Z",
     "start_time": "2018-03-31T10:28:28.696021Z"
    }
   },
   "outputs": [
    {
     "data": {
      "image/png": "[encoded data removed]",
      "text/plain": [
       "<Figure size 432x288 with 1 Axes>"
      ]
     },
     "metadata": {},
     "output_type": "display_data"
    }
   ],
   "source": [
    "plt.plot(I,metric); plt.show()"
   ]
  },
  {
   "cell_type": "code",
   "execution_count": 20,
   "metadata": {
    "ExecuteTime": {
     "end_time": "2018-03-31T10:28:50.926798Z",
     "start_time": "2018-03-31T10:28:47.624791Z"
    }
   },
   "outputs": [],
   "source": [
    "#Winnow\n",
    "i = 0\n",
    "eta = 0.05\n",
    "w = np.ones_like(X[0,:])\n",
    "w = w/np.sum(w)\n",
    "metric = []\n",
    "I = []\n",
    "for x,y in zip(X_reg,Y_reg):\n",
    "    l = y - np.sign(np.sum(w*x))\n",
    "    if l != 0:\n",
    "        w_new = w*np.exp(eta*x*y)\n",
    "        w_new = w_new/np.sum(w_new)\n",
    "        metric.append(norm(w_new/norm(w_new) - w/(norm(w))))\n",
    "        I.append(i)\n",
    "        w = w_new\n",
    "    i+=1"
   ]
  },
  {
   "cell_type": "code",
   "execution_count": 21,
   "metadata": {
    "ExecuteTime": {
     "end_time": "2018-03-31T10:28:51.479349Z",
     "start_time": "2018-03-31T10:28:51.344557Z"
    }
   },
   "outputs": [
    {
     "data": {
      "text/plain": [
       "[<matplotlib.lines.Line2D at 0x7ff7950196d8>]"
      ]
     },
     "execution_count": 21,
     "metadata": {},
     "output_type": "execute_result"
    },
    {
     "data": {
      "image/png": "[encoded data removed]",
      "text/plain": [
       "<Figure size 432x288 with 1 Axes>"
      ]
     },
     "metadata": {},
     "output_type": "display_data"
    }
   ],
   "source": [
    "plt.plot(I,metric)"
   ]
  },
  {
   "cell_type": "code",
   "execution_count": 22,
   "metadata": {
    "ExecuteTime": {
     "end_time": "2018-03-31T10:28:53.439576Z",
     "start_time": "2018-03-31T10:28:53.435447Z"
    }
   },
   "outputs": [
    {
     "data": {
      "text/plain": [
       "array([1.00000000e+000, 4.46114930e-086, 9.30773854e-231])"
      ]
     },
     "execution_count": 22,
     "metadata": {},
     "output_type": "execute_result"
    }
   ],
   "source": [
    "w"
   ]
  },
  {
   "cell_type": "code",
   "execution_count": 23,
   "metadata": {
    "ExecuteTime": {
     "end_time": "2018-03-31T10:28:56.089680Z",
     "start_time": "2018-03-31T10:28:56.081223Z"
    }
   },
   "outputs": [
    {
     "data": {
      "text/plain": [
       "0.0"
      ]
     },
     "execution_count": 23,
     "metadata": {},
     "output_type": "execute_result"
    }
   ],
   "source": [
    "np.min(np.sign(np.sum(w*X_reg,1)))"
   ]
  }
 ],
 "metadata": {
  "kernelspec": {
   "display_name": "Python 3",
   "language": "python",
   "name": "python3"
  },
  "language_info": {
   "codemirror_mode": {
    "name": "ipython",
    "version": 3
   },
   "file_extension": ".py",
   "mimetype": "text/x-python",
   "name": "python",
   "nbconvert_exporter": "python",
   "pygments_lexer": "ipython3",
   "version": "3.6.3"
  }
 },
 "nbformat": 4,
 "nbformat_minor": 2
}
