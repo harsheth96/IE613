{
 "cells": [
  {
   "cell_type": "code",
   "execution_count": null,
   "metadata": {
    "ExecuteTime": {
     "end_time": "2018-02-20T18:14:51.005663Z",
     "start_time": "2018-02-20T23:44:48.238270+05:30"
    },
    "collapsed": false,
    "deletable": true,
    "editable": true
   },
   "outputs": [],
   "source": [
    "import numpy as np\n",
    "import matplotlib.pyplot as plt\n",
    "\n",
    "def wma(d,T,eta):\n",
    "    w_tilde = np.ones([d])\n",
    "    l       = np.zeros([d,T])\n",
    "    p       = np.zeros([d,T])\n",
    "    #loss    = 0\n",
    "    e_loss  = 0\n",
    "    for t in range(T):\n",
    "        p[:,t] = w = w_tilde/np.sum(w_tilde)\n",
    "        #adv_choice = np.random.choice(d,p=w)\n",
    "        l[:-2,t]   = np.random.choice(2, size=8, p=[0.5, 0.5])\n",
    "        l[-2,t]    = np.random.choice(2, p=[0.6,0.4])\n",
    "        delta      = 0.1 if t<T/2 else -0.2\n",
    "        l[-1,t]    = np.random.choice(2, p=[0.5-delta,0.5+delta])\n",
    "        #loss      += l[adv_choice,t]\n",
    "        e_loss    += w.dot(l[:,t])\n",
    "        w_tilde    = w_tilde*np.exp(-eta*l[:,t])\n",
    "\n",
    "    costs    = np.sum(l,axis=1) \n",
    "    #regret   = loss - np.min(costs)\n",
    "    p_regret = e_loss - np.min(costs)\n",
    "    \n",
    "    return p_regret, p"
   ]
  },
  {
   "cell_type": "code",
   "execution_count": null,
   "metadata": {
    "ExecuteTime": {
     "end_time": "2018-02-20T09:08:02.063656Z",
     "start_time": "2018-02-20T14:36:20.709247+05:30"
    },
    "collapsed": false,
    "deletable": true,
    "editable": true
   },
   "outputs": [],
   "source": [
    "d = 10      #Number of advisors\n",
    "T = 100000  #Number of rounds\n",
    "C = np.array([0.1,0.5,2.1])\n",
    "eta       = np.sqrt(2.0*np.log(d)/T)\n",
    "fig, axs   = plt.subplots(1,3, figsize=(15,7))\n",
    "for c,ax in zip(C,axs):\n",
    "    p_r, p    = wma(d,T,c*eta)\n",
    "    cf = ax.contourf(p, 200,vmin=0, vmax=1)\n",
    "    ax.set_title(r'$\\eta$ multilier =' + str(c), fontsize=25)\n",
    "    ax.set_xlabel(\"Time\", fontsize=20)\n",
    "    ax.set_ylabel(\"Advisor\", fontsize=20)\n",
    "    ax.set_xticks([50000,100000])\n",
    "    ax.tick_params(axis='both', labelsize=15)\n",
    "\n",
    "fig.tight_layout()\n",
    "fig.subplots_adjust(bottom=0.4)\n",
    "cbar_ax = fig.add_axes([0.05,0.24, 0.91, 0.04])\n",
    "cb = fig.colorbar(cf,cax=cbar_ax, ticks=np.linspace(0,1,11), orientation='horizontal')\n",
    "cb.set_label(\"Probability\", fontsize=20)\n",
    "cb.ax.tick_params(axis='both', labelsize=15)\n",
    "\n",
    "plt.savefig('./q1b_b.png')\n",
    "plt.show()"
   ]
  },
  {
   "cell_type": "code",
   "execution_count": null,
   "metadata": {
    "ExecuteTime": {
     "end_time": "2018-02-20T18:15:07.894907Z",
     "start_time": "2018-02-20T23:44:55.998689+05:30"
    },
    "collapsed": false,
    "deletable": true,
    "editable": true
   },
   "outputs": [],
   "source": [
    "d = 10      #Number of advisors\n",
    "T = 100000  #Number of rounds\n",
    "\n",
    "c         = np.linspace(0.1,2.1,11)\n",
    "Eta       = c*np.sqrt(2.0*np.log(d)/T)\n",
    "n_samples = 30\n",
    "R         = np.zeros([11,n_samples])\n",
    "for i,eta in enumerate(Eta):\n",
    "    for trial in range(n_samples):\n",
    "        R[i,trial],_ = wma(d,T,eta)\n",
    "        print(\"Sample: {}, i_c:{}\".format(trial,i))"
   ]
  },
  {
   "cell_type": "code",
   "execution_count": null,
   "metadata": {
    "ExecuteTime": {
     "end_time": "2018-02-20T18:15:11.118062Z",
     "start_time": "2018-02-20T23:45:10.250591+05:30"
    },
    "collapsed": false,
    "deletable": true,
    "editable": true
   },
   "outputs": [],
   "source": [
    "m, s   = np.mean(R, axis=1), np.std(R, axis=1, ddof=1)*1.96/np.sqrt(n_samples)\n",
    "\n",
    "fig,ax = plt.subplots(figsize=(15,15))\n",
    "ax.errorbar(c,m,s)\n",
    "ax.set_xticks(c)\n",
    "ax.tick_params(axis='both', labelsize=15)\n",
    "ax.set_xlabel(r\"$\\frac{\\eta}{\\sqrt{\\frac{2\\log(d)}{T}}}$\", fontsize=40, labelpad=20)\n",
    "ax.set_ylabel(r\"Expected regret\", fontsize=20, labelpad=30)\n",
    "plt.savefig(r\"./plots/q1.png\")\n",
    "plt.show()"
   ]
  }
 ],
 "metadata": {
  "kernelspec": {
   "display_name": "Python 3",
   "language": "python",
   "name": "python3"
  },
  "language_info": {
   "codemirror_mode": {
    "name": "ipython",
    "version": 3
   },
   "file_extension": ".py",
   "mimetype": "text/x-python",
   "name": "python",
   "nbconvert_exporter": "python",
   "pygments_lexer": "ipython3",
   "version": "3.5.3"
  }
 },
 "nbformat": 4,
 "nbformat_minor": 2
}
