{
 "cells": [
  {
   "cell_type": "code",
   "execution_count": 5,
   "metadata": {
    "ExecuteTime": {
     "end_time": "2018-02-20T10:11:15.308667Z",
     "start_time": "2018-02-20T15:41:15.292698+05:30"
    },
    "collapsed": true
   },
   "outputs": [],
   "source": [
    "import numpy as np\n",
    "import matplotlib.pyplot as plt\n",
    "\n",
    "def exp3p(d,T,eta,beta,gamma):\n",
    "    p       = np.zeros([d,T])\n",
    "    e_gain = 0\n",
    "    elv = 0.5*np.ones([d,2])\n",
    "    elv[-2,:] = 0.4\n",
    "    elv[-1,:] = [0.6,0.3]\n",
    "    egv = 1-elv\n",
    "    G = np.zeros([d])\n",
    "    w_tilde = np.ones([d])\n",
    "\n",
    "    for t in range(T):\n",
    "        p[:,t] = w        = (1-gamma)*(w_tilde/np.sum(w_tilde)) + gamma/d\n",
    "        adv_choice        = np.random.choice(d,p=w)\n",
    "        e_gain_c          = egv[adv_choice,(2*t)//T]\n",
    "        gain              = beta/w\n",
    "        gain[adv_choice] += np.random.choice(2,p=[1-e_gain_c, e_gain_c])/w[adv_choice]\n",
    "        e_gain           += e_gain_c\n",
    "        w_tilde           = w_tilde*np.exp(eta*gain)\n",
    "\n",
    "    return 0.6*T - e_gain, p"
   ]
  },
  {
   "cell_type": "code",
   "execution_count": 6,
   "metadata": {
    "ExecuteTime": {
     "end_time": "2018-02-20T10:11:15.760343Z",
     "start_time": "2018-02-20T15:41:15.749061+05:30"
    },
    "collapsed": true
   },
   "outputs": [],
   "source": [
    "import numpy as np\n",
    "import matplotlib.pyplot as plt\n",
    "\n",
    "def exp3(d,T,eta):\n",
    "    p       = np.zeros([d,T])\n",
    "    e_loss = 0\n",
    "    elv = 0.5*np.ones([d,2])\n",
    "    elv[-2,:] = 0.4\n",
    "    elv[-1,:] = [0.6,0.3]\n",
    "    \n",
    "    w_tilde = np.ones([d])\n",
    "    \n",
    "    for t in range(T):\n",
    "        p[:,t] = w = w_tilde/np.sum(w_tilde)\n",
    "        adv_choice = np.random.choice(d,p=w)\n",
    "        e_loss_c   = elv[adv_choice,(2*t)//T]\n",
    "        l          = np.random.choice(2,p=[1-e_loss_c, e_loss_c])/w[adv_choice]\n",
    "        e_loss    += e_loss_c\n",
    "        w_tilde[adv_choice]    = w_tilde[adv_choice]*np.exp(-eta*l)\n",
    "\n",
    "    return e_loss - 0.4*T, p"
   ]
  },
  {
   "cell_type": "code",
   "execution_count": 7,
   "metadata": {
    "ExecuteTime": {
     "end_time": "2018-02-20T10:11:16.011745Z",
     "start_time": "2018-02-20T15:41:15.996506+05:30"
    },
    "collapsed": true
   },
   "outputs": [],
   "source": [
    "def exp3ix(d,T,eta,beta,gamma):\n",
    "    p       = np.zeros([d,T])\n",
    "    e_loss = 0\n",
    "    elv = 0.5*np.ones([d,2])\n",
    "    elv[-2,:] = 0.4\n",
    "    elv[-1,:] = [0.6,0.3]\n",
    "    \n",
    "    w_tilde = np.ones([d])\n",
    "\n",
    "    for t in range(T):\n",
    "        p[:,t] = w = w_tilde/np.sum(w_tilde)\n",
    "        adv_choice = np.random.choice(d,p=w)\n",
    "        e_loss_c   = elv[adv_choice,(2*t)//T]\n",
    "        l          = np.random.choice(2,p=[1-e_loss_c, e_loss_c])/(w[adv_choice]+gamma)\n",
    "        e_loss    += e_loss_c\n",
    "        w_tilde[adv_choice]    = w_tilde[adv_choice]*np.exp(-eta*l)\n",
    "\n",
    "    return e_loss - 0.4*T, p"
   ]
  },
  {
   "cell_type": "code",
   "execution_count": null,
   "metadata": {
    "collapsed": true
   },
   "outputs": [],
   "source": [
    "d = 10      #Number of advisors\n",
    "T = 100000  #Number of rounds\n",
    "c = 1.5\n",
    "eta = c*np.sqrt(2.0*np.log(d)/T)\n",
    "fig, axs   = plt.subplots(1,3, figsize=(15,7))\n",
    "for func,ax in zip([exp3,exprp,exprix],axs):\n",
    "    p_r, p    = func(d,T,c*eta)\n",
    "    cf = ax.contourf(p, 200,vmin=0, vmax=1)\n",
    "    ax.set_title(r'$\\eta$ multilier =' + str(c), fontsize=25)\n",
    "    ax.set_xlabel(\"Time\", fontsize=20)\n",
    "    ax.set_ylabel(\"Advisor\", fontsize=20)\n",
    "    ax.set_xticks([50000,100000])\n",
    "    ax.tick_params(axis='both', labelsize=15)\n",
    "\n",
    "fig.tight_layout()\n",
    "fig.subplots_adjust(bottom=0.4)\n",
    "cbar_ax = fig.add_axes([0.05,0.24, 0.91, 0.04])\n",
    "cb = fig.colorbar(cf,cax=cbar_ax, ticks=np.linspace(0,1,11), orientation='horizontal')\n",
    "cb.set_label(\"Probability\", fontsize=20)\n",
    "cb.ax.tick_params(axis='both', labelsize=15)\n",
    "\n",
    "plt.savefig('./Q3.png')\n",
    "plt.show()"
   ]
  }
 ],
 "metadata": {
  "kernelspec": {
   "display_name": "Python 3",
   "language": "python",
   "name": "python3"
  },
  "language_info": {
   "codemirror_mode": {
    "name": "ipython",
    "version": 3
   },
   "file_extension": ".py",
   "mimetype": "text/x-python",
   "name": "python",
   "nbconvert_exporter": "python",
   "pygments_lexer": "ipython3",
   "version": "3.5.3"
  }
 },
 "nbformat": 4,
 "nbformat_minor": 2
}
